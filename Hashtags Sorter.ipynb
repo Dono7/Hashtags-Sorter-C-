{
 "cells": [
  {
   "cell_type": "markdown",
   "metadata": {},
   "source": [
    "# Hashtags Sorter\n",
    "\n",
    "## How tu use ?\n",
    "\n",
    "Put your text in the read area, then press the \"Run this cell\" button, or press Shift+Enter."
   ]
  },
  {
   "cell_type": "code",
   "execution_count": null,
   "metadata": {},
   "outputs": [],
   "source": [
    "#ASCII code : (\":34) (#:35) ($:36)\n",
    "\n",
    "def printMyList(l):\n",
    "    for i in l:\n",
    "        print(i)\n",
    "\n",
    "def keepOnlyHashtags(l):\n",
    "    newList = []\n",
    "    for i in l:\n",
    "        if (i>\"#\" and i<\"$\"):\n",
    "            newList.append(i)\n",
    "    return newList\n",
    "\n",
    "def launchFunctions(text):\n",
    "    text = text.lower()                                  #change les MAJ en min\n",
    "    words = text.split()                                 #forme une liste depuis le texte\n",
    "    myList = sorted(set(words), key=words.index)         #supprime les doublons\n",
    "    myList.sort()                                        #tri par ordre alphabétique basé sur le ASCII\n",
    "    myList = keepOnlyHashtags(myList)                    #supprime tout ce qui n'est pas hashtags\n",
    "    print(\"Tout a bien fonctionné. La liste contient \",len(myList),\" éléments :\")\n",
    "    print()\n",
    "    printMyList(myList)\n",
    "\n",
    "text = \"\"\"\n",
    "(you can  put your text in this area in this red area )\n",
    "exemple : #ok #hashtags #xploreyourhood #urbex\n",
    "\n",
    "\n",
    "\n",
    "\"\"\"\n",
    "\n",
    "launchFunctions(text)"
   ]
  },
  {
   "cell_type": "markdown",
   "metadata": {},
   "source": [
    ":)"
   ]
  }
 ],
 "metadata": {
  "kernelspec": {
   "display_name": "Python 3",
   "language": "python",
   "name": "python3"
  },
  "language_info": {
   "codemirror_mode": {
    "name": "ipython",
    "version": 3
   },
   "file_extension": ".py",
   "mimetype": "text/x-python",
   "name": "python",
   "nbconvert_exporter": "python",
   "pygments_lexer": "ipython3",
   "version": "3.6.6"
  }
 },
 "nbformat": 4,
 "nbformat_minor": 2
}
