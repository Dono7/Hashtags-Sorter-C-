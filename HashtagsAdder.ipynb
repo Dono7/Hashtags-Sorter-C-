{
 "cells": [
  {
   "cell_type": "markdown",
   "metadata": {
    "collapsed": true
   },
   "source": [
    "# Adding hashtags to hashtags lists\n",
    "\n",
    "## What is it for ?\n",
    "\n",
    "The Hashtag Adder help you to compare and Old Hashtags List with a New Hashtags List.  This will display the old hashtags lists, and the new ones. <b>If a Hashtag already exist in the old list, il will not be displayed.</b> <br/><br/>\n",
    "\n",
    "The Hashtag Adder also sort the lists. It uses my Hashtag Sorter program. You can find more information <a href=\"https://github.com/Dono7/Hashtags-Sorter-Python\">here</a> .\n",
    "\n",
    "## How to use ?\n",
    "\n",
    "<b>Put your 2 lists in the respectives red areas (at the end) and launch the cell (Shitf+Enter).</b></br>"
   ]
  },
  {
   "cell_type": "code",
   "execution_count": null,
   "metadata": {},
   "outputs": [],
   "source": [
    "# Here are the functions \n",
    "\n",
    "# Afficher list\n",
    "def printMyList(l):\n",
    "    list_out = \"\"\n",
    "    for i in l:\n",
    "        list_out += i\n",
    "        list_out += \" \"\n",
    "        #list_out += \"\\n\" #Supprimer le hashtag en début de ligne pour activer le retour à la ligne\n",
    "    print(list_out)\n",
    "\n",
    "def keepOnlyHashtags(l):\n",
    "    newList = []\n",
    "    for i in l:\n",
    "        if (i>\"#\" and i<\"$\"):\n",
    "            newList.append(i)\n",
    "    return newList\n",
    "\n",
    "# Convert strings to lists\n",
    "def StringToHashtagsList(stg):\n",
    "    stg = stg.lower()\n",
    "    stgW = stg.split()\n",
    "    stgL = sorted(set(stgW), key=stgW.index)\n",
    "    stgL.sort()\n",
    "    stgL = keepOnlyHashtags(stgL)\n",
    "    return stgL\n",
    "\n",
    "# Update the new list by removing elements that already exist in the old list\n",
    "def updateNewH(OldH, NewH):\n",
    "    NewUpdated = []\n",
    "    for i in NewH:\n",
    "        if not i in OldH:\n",
    "            NewUpdated.append(i)\n",
    "    return NewUpdated\n",
    "\n",
    "def launchHashtagAdder(OldH, NewH):\n",
    "    OldH = StringToHashtagsList(OldH)    #Convertit Anciens hashtags en list\n",
    "    NewH = StringToHashtagsList(NewH)    #Convertit Nouveaux hashtags en list\n",
    "    NewH = updateNewH(OldH, NewH)        # Met à jour la nouvelle list\n",
    "    print(\"\\nL'ancienne liste contient tout ces hashtags :\")\n",
    "    printMyList(OldH)\n",
    "    print(\"\\nLa nouvelle liste contient ces hashtags supplémentaires :\")\n",
    "    printMyList(NewH)\n",
    "    print(\"\\n(Supprimer le '#' de la ligne 7 pour obtenir la liste avec des sauts de lignes).\")\n",
    "\n",
    "\n",
    "\n",
    "\n",
    "\n",
    "\n",
    "\n",
    "#Create your lists\n",
    "\n",
    "\n",
    "OldHashtagsList = \"\"\"\n",
    "Put all your old hashtags in this red area.\n",
    "exemple : #old #2017 #deleteTheExemple\n",
    "\n",
    "\"\"\"\n",
    "\n",
    "\n",
    "NewHashtagsList = \"\"\"\n",
    "Put the new ones here.\n",
    "exemple : #new #2019 #deleteTheExemple\n",
    "\n",
    "\"\"\"\n",
    "\n",
    "\n",
    "\n",
    "\n",
    "\n",
    "\n",
    "\n",
    "\n",
    "launchHashtagAdder(OldHashtagsList, NewHashtagsList)"
   ]
  },
  {
   "cell_type": "markdown",
   "metadata": {},
   "source": [
    " "
   ]
  },
  {
   "cell_type": "markdown",
   "metadata": {},
   "source": [
    " "
   ]
  },
  {
   "cell_type": "markdown",
   "metadata": {},
   "source": [
    " "
   ]
  }
 ],
 "metadata": {
  "kernelspec": {
   "display_name": "Python 3",
   "language": "python",
   "name": "python3"
  },
  "language_info": {
   "codemirror_mode": {
    "name": "ipython",
    "version": 3
   },
   "file_extension": ".py",
   "mimetype": "text/x-python",
   "name": "python",
   "nbconvert_exporter": "python",
   "pygments_lexer": "ipython3",
   "version": "3.6.3"
  }
 },
 "nbformat": 4,
 "nbformat_minor": 2
}
